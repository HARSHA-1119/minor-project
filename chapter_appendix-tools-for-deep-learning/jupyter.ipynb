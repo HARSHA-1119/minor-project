{
  "cells": [
    {
      "cell_type": "code",
      "source": [
        "import numpy as np\n",
        "\n",
        "male= np.loadtxt(\"C:\\Users\\G HARSHA VARDHAN\\OneDrive - Amrita university\\Documents\\CORIZO\\nhanes_adult_male_bmx_2020.csv\")\n",
        "female= np.loadtxt(\"C:\\Users\\G HARSHA VARDHAN\\OneDrive - Amrita university\\Documents\\CORIZO\\nhanes_adult_female_bmx_2020.csv\")\n",
        "\n",
        "import matplotlib.pyplot as plt\n",
        "\n",
        "male_weights = male[1:, 0].astype(float)\n",
        "female_weights = female[1:, 0].astype(float)\n",
        "\n",
        "\n",
        "\n"
      ],
      "metadata": {
        "id": "dhiqhHE0RuTS"
      },
      "id": "dhiqhHE0RuTS",
      "execution_count": null,
      "outputs": []
    }
  ],
  "metadata": {
    "kernelspec": {
      "display_name": "Python 3",
      "name": "python3"
    },
    "language_info": {
      "name": "python"
    },
    "required_libs": [],
    "colab": {
      "provenance": []
    }
  },
  "nbformat": 4,
  "nbformat_minor": 5
}