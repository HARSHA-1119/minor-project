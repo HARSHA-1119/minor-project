import numpy as np

male = np.loadtxt(r"/content/nhanes_adult_male_bmx_2020.csv", delimiter=',', skiprows=1, dtype=str)
female = np.loadtxt(r"/content/nhanes_adult_female_bmx_2020.csv", delimiter=',', skiprows=1, dtype=str)

import matplotlib.pyplot as plt

male_weights = male[1:, 0].astype(float)
female_weights = female[1:, 0].astype(float)

#histograms
plt.figure(figsize=(10, 6))

#histograms for female weights
plt.subplot(2,1,1)
plt.hist(female_weights, bins=30, color='blue')
plt.title('Female Weights')
plt.xlabel('Weight [kg]')
plt.ylabel('Frequency')

#histograms for male weights
plt.subplot(2,1,2)
plt.hist(male_weights, bins=30, color='lightblue')
plt.title('Male Weights')
plt.xlabel('weight [kg]')
plt.ylabel('Frequency')

plt.tight_layout()
plt.show()
